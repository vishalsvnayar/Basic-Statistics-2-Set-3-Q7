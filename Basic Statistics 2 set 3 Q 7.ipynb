{
 "cells": [
  {
   "cell_type": "markdown",
   "id": "5377cfe0",
   "metadata": {},
   "source": [
    "**Q7**. Which is shorter: a 95% z-interval or a 95% t-interval for μ if we know that σ =s? \n",
    "\n",
    "`A. The z-interval is shorter `\n",
    "\n",
    "B. The t-interval is shorter\n",
    "\n",
    "C. Both are equal\n",
    "\n",
    "D. We cannot say\n",
    "\n",
    "95 % confidence interval for mean is shorter for z-interval because t-critical is greater than z-critical value. Yes, z-interval is always shorter because t-critical value cannot be smaller than z-critical value.\n"
   ]
  },
  {
   "cell_type": "code",
   "execution_count": null,
   "id": "1c99f887",
   "metadata": {},
   "outputs": [],
   "source": []
  }
 ],
 "metadata": {
  "kernelspec": {
   "display_name": "Python 3 (ipykernel)",
   "language": "python",
   "name": "python3"
  },
  "language_info": {
   "codemirror_mode": {
    "name": "ipython",
    "version": 3
   },
   "file_extension": ".py",
   "mimetype": "text/x-python",
   "name": "python",
   "nbconvert_exporter": "python",
   "pygments_lexer": "ipython3",
   "version": "3.9.7"
  }
 },
 "nbformat": 4,
 "nbformat_minor": 5
}
